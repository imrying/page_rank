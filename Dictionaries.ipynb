{
 "cells": [
  {
   "cell_type": "code",
   "execution_count": null,
   "metadata": {},
   "outputs": [],
   "source": [
    "import numpy as np"
   ]
  },
  {
   "cell_type": "markdown",
   "metadata": {},
   "source": [
    "<h1> Pythons <i>dictionary</i> data structure </h1>\n",
    "\n",
    "You can read more about dictionaries in chapter 11 of\n",
    "<a href=\"https://greenteapress.com/wp/think-python-2e/\">Think Python 2e</a>.\n",
    "A dictionary differs from an array in that it is: \n",
    "\n",
    "-- unordered \n",
    "\n",
    "-- you don't have to predefine how many elements are in it \n",
    "\n",
    "-- or what the index set is\n",
    "\n",
    "-- the information not stored sequentially in memory, but in hashtables. It is generally much faster to access the information."
   ]
  },
  {
   "cell_type": "markdown",
   "metadata": {},
   "source": [
    "A dictionary consists of a list of *keys* (which index the data), and, for each key a list of *values*.\n",
    "\n",
    "For example we might have words as the keys, and some possible translations into \n",
    "Danish as the values:"
   ]
  },
  {
   "cell_type": "code",
   "execution_count": 15,
   "metadata": {},
   "outputs": [
    {
     "name": "stdout",
     "output_type": "stream",
     "text": [
      "{'one': 'en', 'two': 'to', 'black': 'sort', 'white': 'hvid'}\n"
     ]
    }
   ],
   "source": [
    "#We can build the dicionary up one key at a time:\n",
    "ED=dict()\n",
    "ED['one']='en'\n",
    "ED['two']='to'\n",
    "ED['black']='sort'\n",
    "ED['white']='hvid'\n",
    "print(ED)\n"
   ]
  },
  {
   "cell_type": "code",
   "execution_count": 16,
   "metadata": {},
   "outputs": [
    {
     "name": "stdout",
     "output_type": "stream",
     "text": [
      "{'two': 'to', 'black': 'sort', 'white': 'hvid'}\n"
     ]
    }
   ],
   "source": [
    "# We can remove a key\n",
    "del(ED['one'])\n",
    "print(ED)"
   ]
  },
  {
   "cell_type": "code",
   "execution_count": 19,
   "metadata": {},
   "outputs": [
    {
     "name": "stdout",
     "output_type": "stream",
     "text": [
      "{'two': 'to', 'black': 'sort', 'white': 'hvid', 'one': 'en'}\n"
     ]
    }
   ],
   "source": [
    "# add it back:\n",
    "ED['one']='en'\n",
    "#We can create another dictionary with the same keys simply as:\n",
    "ES=dict()\n",
    "ES['one']='uno'\n",
    "ES['two']='dos'\n",
    "ES['black']='negro'\n",
    "ES['white']='blanca'\n",
    "print(ED)\n",
    "\n"
   ]
  },
  {
   "cell_type": "code",
   "execution_count": 20,
   "metadata": {},
   "outputs": [
    {
     "name": "stdout",
     "output_type": "stream",
     "text": [
      "two to dos\n",
      "black sort negro\n",
      "white hvid blanca\n",
      "one en uno\n"
     ]
    }
   ],
   "source": [
    "for key in ED:\n",
    "    print(key,ED[key], ES[key])"
   ]
  },
  {
   "cell_type": "markdown",
   "metadata": {},
   "source": [
    "Note that the dictionary has no order, and you cannot predict the order\n",
    "that the above will be printed in.\n",
    "But this also means that it is easy to add and remove things from a dictionary.\n",
    "<br>"
   ]
  },
  {
   "cell_type": "markdown",
   "metadata": {},
   "source": [
    "**A Network as a dictionary**\n",
    "\n",
    "The following example illustrates how you can use a dictionary to represent a network of interelated objects that is easy to update when there are changes in the network. \n",
    "We create a dictionary that models how a school student might keep track of friend relations in their class."
   ]
  },
  {
   "cell_type": "code",
   "execution_count": 27,
   "metadata": {},
   "outputs": [
    {
     "name": "stdout",
     "output_type": "stream",
     "text": [
      "{'me': {'alison', 'billy', 'sam'}, 'sam': {'billy', 'me'}, 'alison': {'lee', 'me'}, 'billy': {'lee', 'sam', 'me'}, 'lee': {'billy', 'alsilon'}}\n"
     ]
    }
   ],
   "source": [
    "# We build up the dictionary by adding names as the keys, \n",
    "# and the values for each key is the list of friends of that person.\n",
    "myClass=dict()\n",
    "myClass['me']={'sam','alison','billy'}\n",
    "myClass['sam']={'me','billy'}\n",
    "myClass['alison']={'me','lee'}\n",
    "myClass['billy']={'me','sam','lee'}\n",
    "myClass['lee']={'alison','billy'}\n",
    "print(myClass)\n"
   ]
  },
  {
   "cell_type": "code",
   "execution_count": 28,
   "metadata": {},
   "outputs": [
    {
     "name": "stdout",
     "output_type": "stream",
     "text": [
      "{'me': {'alison', 'billy', 'sam'}, 'sam': {'billy', 'me'}, 'alison': {'lee', 'me'}, 'billy': {'lee', 'sam', 'me'}, 'lee': {'alison', 'billy', 'andreas'}, 'andreas': {'lee'}}\n"
     ]
    }
   ],
   "source": [
    "#As new people join the class they can be added:\n",
    "myClass['andreas']={'lee'}\n",
    "\n",
    "# now we have to update the friends of lee\n",
    "myClass['lee']={'alison','billy','andreas'}\n",
    "print(myClass)"
   ]
  },
  {
   "cell_type": "markdown",
   "metadata": {},
   "source": [
    "You might have noticed that the dictionary myClass contains the same information as a symmetric adjacency matrix showing connections in a graph, where a '1' in position (i,j) indicates that person i is friends with person j, and otherwise there is a zero in that position. The dictionary data structure means you don't have to store all the zeros, and you can easily add or delete nodes from the graph without changin the address information (the key) for the remaining nodes."
   ]
  },
  {
   "cell_type": "markdown",
   "metadata": {},
   "source": [
    "For a network where the links (in general) only go one way, for example if, in the myClass example above we just record for each student which of the other students they like, then the corresponding matrix is not (in general) symmetric."
   ]
  },
  {
   "cell_type": "code",
   "execution_count": null,
   "metadata": {},
   "outputs": [],
   "source": []
  }
 ],
 "metadata": {
  "kernelspec": {
   "display_name": "Python 3 (ipykernel)",
   "language": "python",
   "name": "python3"
  },
  "language_info": {
   "codemirror_mode": {
    "name": "ipython",
    "version": 3
   },
   "file_extension": ".py",
   "mimetype": "text/x-python",
   "name": "python",
   "nbconvert_exporter": "python",
   "pygments_lexer": "ipython3",
   "version": "3.10.6"
  },
  "vscode": {
   "interpreter": {
    "hash": "e7370f93d1d0cde622a1f8e1c04877d8463912d04d973331ad4851f04de6915a"
   }
  }
 },
 "nbformat": 4,
 "nbformat_minor": 2
}
