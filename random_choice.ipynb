{
 "cells": [
  {
   "cell_type": "markdown",
   "metadata": {},
   "source": [
    "One can use numpy.random.choice to make a random choice from a list with a given distribution, e.g."
   ]
  },
  {
   "cell_type": "code",
   "execution_count": 1,
   "metadata": {},
   "outputs": [
    {
     "name": "stdout",
     "output_type": "stream",
     "text": [
      "['c', 'b', 'a', 'b', 'c', 'a', 'c', 'a', 'c', 'b', 'b', 'b', 'a', 'c', 'c', 'b', 'a', 'a', 'b', 'a', 'b', 'a', 'b', 'a', 'a', 'b', 'a', 'c', 'a', 'b']\n",
      "number of a's: 12\n",
      "number of b's: 11\n",
      "number of c's: 7\n"
     ]
    }
   ],
   "source": [
    "import numpy as np\n",
    "\n",
    "#make a random choice from the list according to a uniform distribution\n",
    "choices=['a','b','c']\n",
    "experiments=[]\n",
    "for i in range(30):\n",
    "    experiments.append(np.random.choice(choices))\n",
    "print(experiments)\n",
    "print(\"number of a's: \"+str(np.sum(1*(np.array(experiments)=='a'))))\n",
    "print(\"number of b's: \"+str(np.sum(1*(np.array(experiments)=='b'))))\n",
    "print(\"number of c's: \"+str(np.sum(1*(np.array(experiments)=='c'))))\n"
   ]
  },
  {
   "cell_type": "markdown",
   "metadata": {},
   "source": []
  },
  {
   "cell_type": "code",
   "execution_count": 2,
   "metadata": {},
   "outputs": [
    {
     "name": "stdout",
     "output_type": "stream",
     "text": [
      "['b', 'b', 'b', 'b', 'b', 'b', 'b', 'b', 'b', 'c', 'b', 'b', 'c', 'b', 'b', 'b', 'b', 'c', 'c', 'c', 'b', 'b', 'b', 'b', 'c', 'b', 'b', 'b', 'b', 'b']\n",
      "number of a's: 0\n",
      "number of b's: 24\n",
      "number of c's: 6\n"
     ]
    }
   ],
   "source": [
    "#make a random choice with a different distribution\n",
    "probs=[0.1,0.6,0.3]    # should add up to 1\n",
    "experiments=[]\n",
    "for i in range(30):\n",
    "    experiments.append(np.random.choice(choices,p=probs))\n",
    "print(experiments)\n",
    "print(\"number of a's: \"+str(np.sum(1*(np.array(experiments)=='a'))))\n",
    "print(\"number of b's: \"+str(np.sum(1*(np.array(experiments)=='b'))))\n",
    "print(\"number of c's: \"+str(np.sum(1*(np.array(experiments)=='c'))))"
   ]
  },
  {
   "cell_type": "code",
   "execution_count": null,
   "metadata": {},
   "outputs": [],
   "source": []
  }
 ],
 "metadata": {
  "kernelspec": {
   "display_name": "Python 3 (ipykernel)",
   "language": "python",
   "name": "python3"
  },
  "language_info": {
   "codemirror_mode": {
    "name": "ipython",
    "version": 3
   },
   "file_extension": ".py",
   "mimetype": "text/x-python",
   "name": "python",
   "nbconvert_exporter": "python",
   "pygments_lexer": "ipython3",
   "version": "3.10.6"
  },
  "vscode": {
   "interpreter": {
    "hash": "e7370f93d1d0cde622a1f8e1c04877d8463912d04d973331ad4851f04de6915a"
   }
  }
 },
 "nbformat": 4,
 "nbformat_minor": 2
}
